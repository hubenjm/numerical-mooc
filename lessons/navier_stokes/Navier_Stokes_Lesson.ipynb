{
 "metadata": {
  "name": "",
  "signature": "sha256:feefb678a7ad0743d9a351c993c4a568e1d12c62d61dfb8751f1971aa450e57c"
 },
 "nbformat": 3,
 "nbformat_minor": 0,
 "worksheets": [
  {
   "cells": [
    {
     "cell_type": "heading",
     "level": 6,
     "metadata": {},
     "source": [
      "Content under Creative Commons Attribution license CC-BY 4.0, code under MIT license (c)2014 by Akash Dhruv"
     ]
    },
    {
     "cell_type": "heading",
     "level": 1,
     "metadata": {},
     "source": [
      "Navier-Stokes,  Learn to Fly !!"
     ]
    },
    {
     "cell_type": "heading",
     "level": 3,
     "metadata": {},
     "source": [
      "1. Introduction"
     ]
    },
    {
     "cell_type": "markdown",
     "metadata": {},
     "source": [
      "One of the most important application of numerical methods lies in solving the non-linear navier stokes equation (1a) and (1b). Introduced in 1822 [1] navier stokes equation describe the physics of a fulid flow accurately, but their correct analytical solution is not possible. Though some analytical solutions do exist for special flows, a general solution of these equations is hindered by the presence of the non linear term $\\small u_j {\\partial u_i}/{\\partial x_j}$.\n",
      "\n",
      "With the increase in computation power and capabilities over the decades, it is possible to numerically solve these equations to pratical accuracy. This has contributed greately towards efficient and cost effective design and analysis.\n",
      "\n"
     ]
    },
    {
     "cell_type": "markdown",
     "metadata": {},
     "source": [
      "$$ {\\small \\frac{\\partial u_i}{\\partial t} +u_j \\frac{\\partial u_i}{\\partial x_j}=-\\frac {1}{\\rho} \\frac{\\partial p}{\\partial x_i} + \\nu\\bigtriangledown^2u_i} \\quad \\quad (1a) $$"
     ]
    },
    {
     "cell_type": "markdown",
     "metadata": {},
     "source": [
      "\n",
      "$$ {\\small \\frac {\\partial u_i}{\\partial x_i} =0 } \\quad \\quad (1b) $$ \n"
     ]
    },
    {
     "cell_type": "markdown",
     "metadata": {},
     "source": [
      "$ u $- velocity, $\\nu$- dynamic viscosity, $p$- Pressure"
     ]
    },
    {
     "cell_type": "markdown",
     "metadata": {},
     "source": [
      "This notebook will present a numerical code to solve navier stokes equation for a Lid-Driven Cavity. Lid-Driven Cavity is a popular computation problem, where the top wall moves with a constant velocity parallel to itself, and rest of the walls are stationary [2-4]. This problem has been highly researched in both two dimensional and three dimensional domains and is a good example to validate a given solver [2]. The equations will be solved on a staggered grid, where unlike a collocated grid, velocities are located on cell faces, and pressure is located on the cell centre. These types of grid avoid odd-even decoupling between pressure and velocity in comparison to collocated grid [5], which makes the soultion free of checkboard patterns. Odd-even decoupling occurs when neighbouring cells don't share same ancestors. Further discussion on different grids can be found in ref [2-4]. Towards the end, an immersed boundary method is also presented. Immersed boundary methods offer advantage of using a cartesian grid over curvilinear grids when assessing the flow over complex geometries (multi-element airfoils, flying snake cross-section,etc) and moving boundaries (rotating cylinder). This is done in many different ways and thus there are all flavors of immersed boundary methods available. In this notebook, a direct forcing approach will be considered [6]. Direct forcing approach is a brute force technique wherein the $u$ and $v$ velocity points just outside the immersed boundary are determined and its wall velocity is imposed on them. This notebook could serve as a good starting point to understand the basic formulation of Navier-Stokes Solver."
     ]
    },
    {
     "cell_type": "heading",
     "level": 3,
     "metadata": {},
     "source": [
      "2. Conservative form of Navier Stokes Equation"
     ]
    },
    {
     "cell_type": "markdown",
     "metadata": {},
     "source": [
      "Equation 1(a) and (b) represent what is popularly called, the non-conservative form of navier stokes equations. Let us perform some substituion using the following steps,"
     ]
    },
    {
     "cell_type": "markdown",
     "metadata": {},
     "source": [
      "$$ \\small {\\dfrac{\\partial u_i}{\\partial t} +u_j \\dfrac{\\partial u_i}{\\partial x_j}=-\\dfrac {1}{\\rho} \\dfrac{\\partial p}{\\partial x_i} + \\nu\\bigtriangledown^2u_i} $$\n",
      "\n",
      "$$\\small \\implies {\\dfrac{\\partial u_i}{\\partial t} +\\dfrac{\\partial u_i u_j}{\\partial x_j}-u_i \\dfrac{\\partial u_j}{\\partial x_j}=-\\dfrac {1}{\\rho} \\dfrac{\\partial p}{\\partial x_i} + \\nu\\bigtriangledown^2u_i} $$\n",
      "\n",
      "\n",
      "$$\\small  \\implies {\\dfrac{\\partial u_i}{\\partial t} +\\dfrac{\\partial u_i u_j}{\\partial x_j}=-\\dfrac {1}{\\rho} \\dfrac{\\partial p}{\\partial x_i} + \\nu\\bigtriangledown^2u_i}, ({Continuity \\implies \\dfrac{\\partial u_j}{\\partial x_j}=0}) $$\n",
      "\n",
      "$$\\small Taking, P=\\dfrac {p}{\\rho} $$\n",
      "\n",
      "$$\\small  \\implies {\\dfrac{\\partial u_i}{\\partial t} +\\dfrac{\\partial u_i u_j}{\\partial x_j}=-\\dfrac{\\partial P}{\\partial x_i} + \\nu\\bigtriangledown^2u_i} \\quad\\quad(2)$$"
     ]
    },
    {
     "cell_type": "markdown",
     "metadata": {},
     "source": [
      "This results in conservative form of Navier-Stokes equation, which is widely used when conservation of energy is an important concern [5]. For the problem discussed in this notebook and typically for incompressible flows, using either conservative or non-conservative is acceptable."
     ]
    },
    {
     "cell_type": "heading",
     "level": 3,
     "metadata": {},
     "source": [
      "3. Numerical code on a staggered grid"
     ]
    },
    {
     "cell_type": "markdown",
     "metadata": {},
     "source": [
      "Let us start working on the code. First we import all the neccesary libraries."
     ]
    },
    {
     "cell_type": "code",
     "collapsed": false,
     "input": [
      "import numpy as np\n",
      "import matplotlib.pyplot as plt\n",
      "from math import *\n",
      "from IPython.display import display\n",
      "from IPython.display import Image"
     ],
     "language": "python",
     "metadata": {},
     "outputs": [],
     "prompt_number": 1
    },
    {
     "cell_type": "markdown",
     "metadata": {},
     "source": [
      "All the parameters to generate the grid and neccessary global constant are defined"
     ]
    },
    {
     "cell_type": "code",
     "collapsed": false,
     "input": [
      "# Defining Grid Parameters\n",
      "\n",
      "Lx=1. #m\n",
      "Ly=1. #m \n",
      "\n",
      "Nx=50\n",
      "Ny=50\n",
      "\n",
      "dx=Lx/(Nx-1)\n",
      "dy=Ly/(Ny-1)\n",
      "\n",
      "\n",
      "# Defining Global Constants\n",
      "\n",
      "mu=0.01\n",
      "rho=1. #kg/m^3\n",
      "Re=100\n",
      "U=(Re*mu)/Lx\n",
      "\n",
      "\n",
      "w=1.1 # Relaxation factor for poisson solver\n",
      "\n",
      "size=6 # Figure size, will be used for plotting"
     ],
     "language": "python",
     "metadata": {},
     "outputs": [],
     "prompt_number": 2
    },
    {
     "cell_type": "markdown",
     "metadata": {},
     "source": [
      "As discussed earlier, on staggered grids the locations of $\\small u$, $\\small v$ and $\\small P$ are different. While $\\small u$ and $\\small v$ velocities are located on cell faces, the pressure points are on cell centres as seen in the figure below."
     ]
    },
    {
     "cell_type": "code",
     "collapsed": false,
     "input": [
      "display(Image(filename='../Project_Akash/image12.jpeg'))"
     ],
     "language": "python",
     "metadata": {},
     "outputs": [
      {
       "ename": "IOError",
       "evalue": "[Errno 2] No such file or directory: u'../Project_Akash/image12.jpeg'",
       "output_type": "pyerr",
       "traceback": [
        "\u001b[1;31m---------------------------------------------------------------------------\u001b[0m\n\u001b[1;31mIOError\u001b[0m                                   Traceback (most recent call last)",
        "\u001b[1;32m<ipython-input-3-8842bf7c9963>\u001b[0m in \u001b[0;36m<module>\u001b[1;34m()\u001b[0m\n\u001b[1;32m----> 1\u001b[1;33m \u001b[0mdisplay\u001b[0m\u001b[1;33m(\u001b[0m\u001b[0mImage\u001b[0m\u001b[1;33m(\u001b[0m\u001b[0mfilename\u001b[0m\u001b[1;33m=\u001b[0m\u001b[1;34m'../Project_Akash/image12.jpeg'\u001b[0m\u001b[1;33m)\u001b[0m\u001b[1;33m)\u001b[0m\u001b[1;33m\u001b[0m\u001b[0m\n\u001b[0m",
        "\u001b[1;32m/usr/local/lib/python2.7/dist-packages/IPython/core/display.pyc\u001b[0m in \u001b[0;36m__init__\u001b[1;34m(self, data, url, filename, format, embed, width, height, retina)\u001b[0m\n\u001b[0;32m    644\u001b[0m         \u001b[0mself\u001b[0m\u001b[1;33m.\u001b[0m\u001b[0mheight\u001b[0m \u001b[1;33m=\u001b[0m \u001b[0mheight\u001b[0m\u001b[1;33m\u001b[0m\u001b[0m\n\u001b[0;32m    645\u001b[0m         \u001b[0mself\u001b[0m\u001b[1;33m.\u001b[0m\u001b[0mretina\u001b[0m \u001b[1;33m=\u001b[0m \u001b[0mretina\u001b[0m\u001b[1;33m\u001b[0m\u001b[0m\n\u001b[1;32m--> 646\u001b[1;33m         \u001b[0msuper\u001b[0m\u001b[1;33m(\u001b[0m\u001b[0mImage\u001b[0m\u001b[1;33m,\u001b[0m \u001b[0mself\u001b[0m\u001b[1;33m)\u001b[0m\u001b[1;33m.\u001b[0m\u001b[0m__init__\u001b[0m\u001b[1;33m(\u001b[0m\u001b[0mdata\u001b[0m\u001b[1;33m=\u001b[0m\u001b[0mdata\u001b[0m\u001b[1;33m,\u001b[0m \u001b[0murl\u001b[0m\u001b[1;33m=\u001b[0m\u001b[0murl\u001b[0m\u001b[1;33m,\u001b[0m \u001b[0mfilename\u001b[0m\u001b[1;33m=\u001b[0m\u001b[0mfilename\u001b[0m\u001b[1;33m)\u001b[0m\u001b[1;33m\u001b[0m\u001b[0m\n\u001b[0m\u001b[0;32m    647\u001b[0m \u001b[1;33m\u001b[0m\u001b[0m\n\u001b[0;32m    648\u001b[0m         \u001b[1;32mif\u001b[0m \u001b[0mretina\u001b[0m\u001b[1;33m:\u001b[0m\u001b[1;33m\u001b[0m\u001b[0m\n",
        "\u001b[1;32m/usr/local/lib/python2.7/dist-packages/IPython/core/display.pyc\u001b[0m in \u001b[0;36m__init__\u001b[1;34m(self, data, url, filename)\u001b[0m\n\u001b[0;32m    334\u001b[0m         \u001b[0mself\u001b[0m\u001b[1;33m.\u001b[0m\u001b[0mfilename\u001b[0m \u001b[1;33m=\u001b[0m \u001b[0mNone\u001b[0m \u001b[1;32mif\u001b[0m \u001b[0mfilename\u001b[0m \u001b[1;32mis\u001b[0m \u001b[0mNone\u001b[0m \u001b[1;32melse\u001b[0m \u001b[0municode_type\u001b[0m\u001b[1;33m(\u001b[0m\u001b[0mfilename\u001b[0m\u001b[1;33m)\u001b[0m\u001b[1;33m\u001b[0m\u001b[0m\n\u001b[0;32m    335\u001b[0m \u001b[1;33m\u001b[0m\u001b[0m\n\u001b[1;32m--> 336\u001b[1;33m         \u001b[0mself\u001b[0m\u001b[1;33m.\u001b[0m\u001b[0mreload\u001b[0m\u001b[1;33m(\u001b[0m\u001b[1;33m)\u001b[0m\u001b[1;33m\u001b[0m\u001b[0m\n\u001b[0m\u001b[0;32m    337\u001b[0m         \u001b[0mself\u001b[0m\u001b[1;33m.\u001b[0m\u001b[0m_check_data\u001b[0m\u001b[1;33m(\u001b[0m\u001b[1;33m)\u001b[0m\u001b[1;33m\u001b[0m\u001b[0m\n\u001b[0;32m    338\u001b[0m \u001b[1;33m\u001b[0m\u001b[0m\n",
        "\u001b[1;32m/usr/local/lib/python2.7/dist-packages/IPython/core/display.pyc\u001b[0m in \u001b[0;36mreload\u001b[1;34m(self)\u001b[0m\n\u001b[0;32m    666\u001b[0m         \u001b[1;34m\"\"\"Reload the raw data from file or URL.\"\"\"\u001b[0m\u001b[1;33m\u001b[0m\u001b[0m\n\u001b[0;32m    667\u001b[0m         \u001b[1;32mif\u001b[0m \u001b[0mself\u001b[0m\u001b[1;33m.\u001b[0m\u001b[0membed\u001b[0m\u001b[1;33m:\u001b[0m\u001b[1;33m\u001b[0m\u001b[0m\n\u001b[1;32m--> 668\u001b[1;33m             \u001b[0msuper\u001b[0m\u001b[1;33m(\u001b[0m\u001b[0mImage\u001b[0m\u001b[1;33m,\u001b[0m\u001b[0mself\u001b[0m\u001b[1;33m)\u001b[0m\u001b[1;33m.\u001b[0m\u001b[0mreload\u001b[0m\u001b[1;33m(\u001b[0m\u001b[1;33m)\u001b[0m\u001b[1;33m\u001b[0m\u001b[0m\n\u001b[0m\u001b[0;32m    669\u001b[0m             \u001b[1;32mif\u001b[0m \u001b[0mself\u001b[0m\u001b[1;33m.\u001b[0m\u001b[0mretina\u001b[0m\u001b[1;33m:\u001b[0m\u001b[1;33m\u001b[0m\u001b[0m\n\u001b[0;32m    670\u001b[0m                 \u001b[0mself\u001b[0m\u001b[1;33m.\u001b[0m\u001b[0m_retina_shape\u001b[0m\u001b[1;33m(\u001b[0m\u001b[1;33m)\u001b[0m\u001b[1;33m\u001b[0m\u001b[0m\n",
        "\u001b[1;32m/usr/local/lib/python2.7/dist-packages/IPython/core/display.pyc\u001b[0m in \u001b[0;36mreload\u001b[1;34m(self)\u001b[0m\n\u001b[0;32m    344\u001b[0m         \u001b[1;34m\"\"\"Reload the raw data from file or URL.\"\"\"\u001b[0m\u001b[1;33m\u001b[0m\u001b[0m\n\u001b[0;32m    345\u001b[0m         \u001b[1;32mif\u001b[0m \u001b[0mself\u001b[0m\u001b[1;33m.\u001b[0m\u001b[0mfilename\u001b[0m \u001b[1;32mis\u001b[0m \u001b[1;32mnot\u001b[0m \u001b[0mNone\u001b[0m\u001b[1;33m:\u001b[0m\u001b[1;33m\u001b[0m\u001b[0m\n\u001b[1;32m--> 346\u001b[1;33m             \u001b[1;32mwith\u001b[0m \u001b[0mopen\u001b[0m\u001b[1;33m(\u001b[0m\u001b[0mself\u001b[0m\u001b[1;33m.\u001b[0m\u001b[0mfilename\u001b[0m\u001b[1;33m,\u001b[0m \u001b[0mself\u001b[0m\u001b[1;33m.\u001b[0m\u001b[0m_read_flags\u001b[0m\u001b[1;33m)\u001b[0m \u001b[1;32mas\u001b[0m \u001b[0mf\u001b[0m\u001b[1;33m:\u001b[0m\u001b[1;33m\u001b[0m\u001b[0m\n\u001b[0m\u001b[0;32m    347\u001b[0m                 \u001b[0mself\u001b[0m\u001b[1;33m.\u001b[0m\u001b[0mdata\u001b[0m \u001b[1;33m=\u001b[0m \u001b[0mf\u001b[0m\u001b[1;33m.\u001b[0m\u001b[0mread\u001b[0m\u001b[1;33m(\u001b[0m\u001b[1;33m)\u001b[0m\u001b[1;33m\u001b[0m\u001b[0m\n\u001b[0;32m    348\u001b[0m         \u001b[1;32melif\u001b[0m \u001b[0mself\u001b[0m\u001b[1;33m.\u001b[0m\u001b[0murl\u001b[0m \u001b[1;32mis\u001b[0m \u001b[1;32mnot\u001b[0m \u001b[0mNone\u001b[0m\u001b[1;33m:\u001b[0m\u001b[1;33m\u001b[0m\u001b[0m\n",
        "\u001b[1;31mIOError\u001b[0m: [Errno 2] No such file or directory: u'../Project_Akash/image12.jpeg'"
       ]
      }
     ],
     "prompt_number": 3
    },
    {
     "cell_type": "markdown",
     "metadata": {},
     "source": [
      "Let's implement this in the code. Starting with defining mesh points "
     ]
    },
    {
     "cell_type": "code",
     "collapsed": false,
     "input": [
      "# Staggered Grid\n",
      "\n",
      "xstart=0\n",
      "ystart=0\n",
      "\n",
      "x=np.zeros((Nx,1),dtype=float)\n",
      "y=np.zeros((Ny,1),dtype=float)\n",
      "\n",
      "for i in range(Nx):\n",
      "    x[i]=xstart+i*dx\n",
      "\n",
      "for j in range(Ny):\n",
      "    y[j]=ystart+j*dy"
     ],
     "language": "python",
     "metadata": {},
     "outputs": [],
     "prompt_number": 4
    },
    {
     "cell_type": "markdown",
     "metadata": {},
     "source": [
      "Next define $\\small u$, $\\small v$, and $\\small P$ points"
     ]
    },
    {
     "cell_type": "code",
     "collapsed": false,
     "input": [
      "# Pressure points\n",
      "xp=np.zeros((Nx+1,1),dtype=float)\n",
      "yp=np.zeros((Ny+1,1),dtype=float)\n",
      "p=np.zeros((Nx+1,Ny+1),dtype=float)\n",
      "\n",
      "# u-velocity points\n",
      "xu=np.zeros((Nx,1),dtype=float)\n",
      "yu=np.zeros((Ny+1,1),dtype=float)\n",
      "u=np.zeros((Nx,Ny+1),dtype=float)\n",
      "ut=np.zeros((Nx,Ny+1),dtype=float)\n",
      "\n",
      "# v-velocity points\n",
      "xv=np.zeros((Nx+1,1),dtype=float)\n",
      "yv=np.zeros((Ny,1),dtype=float)\n",
      "v=np.zeros((Nx+1,Ny),dtype=float)\n",
      "vt=np.zeros((Nx+1,Ny),dtype=float)\n",
      "\n",
      "# Assigning grid values\n",
      "\n",
      "# Pressure points\n",
      "for i in range(1,Nx):\n",
      "    for j in range(1,Ny):\n",
      "        xp[i]=(x[i-1]+x[i])/2\n",
      "        yp[j]=(y[j-1]+y[j])/2\n",
      "\n",
      "xp[0]=xp[1]-dx\n",
      "yp[0]=yp[1]-dy\n",
      "\n",
      "xp[-1]=xp[-2]+dx\n",
      "yp[-1]=yp[-2]+dy\n",
      "\n",
      "# u-velocity points\n",
      "for i in range(Nx):\n",
      "    for j in range(1,Ny):\n",
      "        xu[i]=x[i]\n",
      "        yu[j]=(y[j-1]+y[j])/2\n",
      "\n",
      "xu[0]=xu[1]-dx\n",
      "yu[0]=yu[1]-dy\n",
      "\n",
      "xu[-1]=xu[-2]+dx\n",
      "yu[-1]=yu[-2]+dy\n",
      "\n",
      "# v-velocity points\n",
      "for i in range(1,Nx):\n",
      "    for j in range(Ny):\n",
      "        yv[j]=y[j]\n",
      "        xv[i]=(x[i-1]+x[i])/2;\n",
      "\n",
      "xv[0]=xv[1]-dx;\n",
      "yv[0]=yv[1]-dy;\n",
      "\n",
      "xv[-1]=xv[-2]+dx;\n",
      "yv[-1]=yv[-2]+dy;\n",
      "\n",
      "[X,Y]=np.meshgrid(x,y)"
     ],
     "language": "python",
     "metadata": {},
     "outputs": [],
     "prompt_number": 5
    },
    {
     "cell_type": "code",
     "collapsed": false,
     "input": [
      "display(Image(filename='../Project_Akash/newgrid.png'))"
     ],
     "language": "python",
     "metadata": {},
     "outputs": [
      {
       "metadata": {},
       "output_type": "display_data",
       "png": "[encoded data removed]",
       "text": [
        "<IPython.core.display.Image at 0xb3b1160>"
       ]
      }
     ],
     "prompt_number": 47
    },
    {
     "cell_type": "markdown",
     "metadata": {},
     "source": [
      "So, we have created our staggered grid. Notice the points outside the mesh. These points will act as ghost cells when boundary condition is imposed. The next task is to discretize the navier stokes equation on this staggered grid."
     ]
    },
    {
     "cell_type": "markdown",
     "metadata": {},
     "source": [
      "Starting with conservative form of navier stokes equation, described in equation 2 and using taylor series expansion, the discrete experession is formed. Consider the staggered grid below."
     ]
    },
    {
     "cell_type": "code",
     "collapsed": false,
     "input": [
      "display(Image(filename='../Project_Akash/ugrid.jpg'))"
     ],
     "language": "python",
     "metadata": {},
     "outputs": [
      {
       "jpeg": "[encoded data removed]",
       "metadata": {},
       "output_type": "display_data",
       "text": [
        "<IPython.core.display.Image at 0xa8a4390>"
       ]
      }
     ],
     "prompt_number": 36
    },
    {
     "cell_type": "markdown",
     "metadata": {},
     "source": [
      "The discretized equation in $x$-direction can be written as follows"
     ]
    },
    {
     "cell_type": "markdown",
     "metadata": {},
     "source": [
      "$$\\small \\dfrac {u_{i,j}^{n+1}-u_{i,j}^{n}}{\\bigtriangleup t}+\\dfrac {(u_{i+1/2,j}^{n})^2-(u_{i-1/2,j}^{n})^2}{\\bigtriangleup x}+\\dfrac {(u_{i,j+1/2}^{n})(v_{i,j+1/2}^{n})-(u_{i,j-1/2}^{n})(v_{i,j-1/2}^{n})}{\\bigtriangleup y}=$$\n",
      "\n",
      "$$\\small-\\dfrac {P_{i+1/2,j}^{n}-P_{i-1/2,j}^{n}}{\\bigtriangleup x}+\\nu \\dfrac{(u_{i+1,j}^{n}+u_{i-1,j}^{n}-2 u_{i,j}^{n})}{{\\bigtriangleup x}^2}+\\nu \\dfrac{(u_{i,j+1}^{n}+u_{i,j-1}^{n}-2 u_{i,j}^{n})}{{\\bigtriangleup y}^2} \\quad (3) $$"
     ]
    },
    {
     "cell_type": "markdown",
     "metadata": {},
     "source": [
      "The expression is forward in time and central in space, for both first and the second derivatives of velocities. This type of discretization has been discussed in module 1 through 4.\n",
      "\n",
      "However, this equation cannot be directly solved. $\\small u_{ij}^{n+1}$ obtained from this equation is not divergence free. To insure that the calculated velocities are divergence free, a multi-step method is employed. First, start with calculating a predicted velocity $u_{t_{ij}}^{{n+1}}$ using Hemholtz equation"
     ]
    },
    {
     "cell_type": "markdown",
     "metadata": {},
     "source": [
      "$$ \\small \\dfrac {u_{t_{i,j}}^{{n}}-u_{i,j}^{n}}{\\bigtriangleup t}+\\dfrac {(u_{i+1/2,j}^{n})^2-(u_{i-1/2,j}^{n})^2}{\\bigtriangleup x}+\\dfrac {(u_{i,j+1/2}^{n})(v_{i,j+1/2}^{n})-(u_{i,j-1/2}^{n})(v_{i,j-1/2}^{n})}{\\bigtriangleup y}=$$\n",
      "\n",
      "$$\\small \\nu \\dfrac{(u_{i+1,j}^{n}+u_{i-1,j}^{n}-2 u_{i,j}^{n})}{{\\bigtriangleup x}^2}+\\nu \\dfrac{(u_{i,j+1}^{n}+u_{i,j-1}^{n}-2 u_{i,j}^{n})}{{\\bigtriangleup y}^2} \\quad (4) $$"
     ]
    },
    {
     "cell_type": "markdown",
     "metadata": {},
     "source": [
      "$$\\small \\implies \\dfrac {u_{t_{i,j}}^{n}-u_{i,j}^{n}}{\\bigtriangleup t}+\\dfrac {(u_{e})^2-(u_{w})^2}{\\bigtriangleup x}+\\dfrac {(u_{n})(v_{n})-(u_{s})(v_{s})}{\\bigtriangleup y}=\\nu \\dfrac{(u_{E}+u_{W}-2 u_{P})}{{\\bigtriangleup x}^2}+\\nu \\dfrac{(u_{N}+u_{S}-2 u_{P})}{{\\bigtriangleup y}^2} \\quad (5) $$"
     ]
    },
    {
     "cell_type": "markdown",
     "metadata": {},
     "source": [
      "$$ \\small \\implies \\dfrac {u_{t_{i,j}}^{n}-u_{i,j}^{n}}{\\bigtriangleup t}-F1C_{ij}=FV_{ij}\\quad (6) $$"
     ]
    },
    {
     "cell_type": "markdown",
     "metadata": {},
     "source": [
      "Similarly equations can be written in $\\small y$-direction by replacing function $\\small F1C$ by $\\small F2C$"
     ]
    },
    {
     "cell_type": "code",
     "collapsed": false,
     "input": [
      "# Defining functions for N-S Solver\n",
      "\n",
      "def F1C(ue,uw,us,un,vs,vn,dx,dy):\n",
      "    F1C=-((ue**2)-(uw**2))/dx-((un*vn)-(us*vs))/dy\n",
      "    return F1C\n",
      "\n",
      "def FV(uP,uE,uW,uN,uS,dx,dy,mu):\n",
      "    FV=(mu/dx)*(((uE-uP)/dx)-((uP-uW)/dx))+(mu/dy)*(((uN-uP)/dy)-((uP-uS)/dy))\n",
      "    return FV\n",
      "\n",
      "def F2C(vn,vs,ve,vw,ue,uw,dx,dy):\n",
      "    F2C=-((ue*ve)-(uw*vw))/dx-((vn**2)-(vs**2))/dy\n",
      "    return F2C"
     ],
     "language": "python",
     "metadata": {},
     "outputs": [],
     "prompt_number": 6
    },
    {
     "cell_type": "markdown",
     "metadata": {},
     "source": [
      "Once the predicted velocities are obtained, the corrected velocity is given by,"
     ]
    },
    {
     "cell_type": "markdown",
     "metadata": {},
     "source": [
      "$$ \\small \\dfrac {u_{{i,j}}^{n+1}-u_{t_{i,j}}^{n}}{\\bigtriangleup t}=-\\dfrac {P_{i+1/2,j}^{n}-P_{i-1/2,j}^{n}}{\\bigtriangleup x}\\quad (7) $$"
     ]
    },
    {
     "cell_type": "markdown",
     "metadata": {},
     "source": [
      "Taking divergence of this equation, we obtain the poisson equation for the corrected pressure in terms of only the predicted velocity, making the corrected velocity divergence free. This poisson equation is solved using a Weighted Jacobi Method, using a relaxation parameter, $\\small \\omega$. This method is similar to the Jacobi Method discussed in previous modules but uses $\\small \\omega$ to included weighted influence of $\\small P_{ij}$ at time step $\\small n$ to calculate it's value at $\\small n+1$. More discussion on this can be found in Ref [5].\n",
      "\n",
      "This corrected pressure evaluated from the poisson solver is plugged back into equation (7) to calculate the corrected velocity. Lets begin solving !"
     ]
    },
    {
     "cell_type": "code",
     "collapsed": false,
     "input": [
      "dt=.4*min(dx,dy) # Defining dt taking sigma=0.4\n",
      "\n",
      "error=1.\n",
      "maxit=100 # maximum iterations for pressure poisson solver\n",
      "counter=0\n",
      "\n",
      "[X,Y]=np.meshgrid(x,y)\n",
      "\n",
      "# loop for navier-stokes solver\n",
      "\n",
      "while(error>0.0001):\n",
      "    un=u.copy()\n",
      "    vn=v.copy()\n",
      "    \n",
      "    # Predictor Step\n",
      "    ue1=(u[1:-1,1:-1]+u[2:,1:-1])/2\n",
      "    uw1=(u[1:-1,1:-1]+u[:-2,1:-1])/2\n",
      "    us1=(u[1:-1,1:-1]+u[1:-1,:-2])/2\n",
      "    un1=(u[1:-1,1:-1]+u[1:-1,2:])/2\n",
      "    vs1=(v[1:-2,:-1]+v[2:-1,:-1])/2\n",
      "    vn1=(v[1:-2,1:]+v[2:-1,1:])/2\n",
      "        \n",
      "    G1=(F1C(ue1,uw1,us1,un1,vs1,vn1,dx,dy)+\\\n",
      "        FV(u[1:-1,1:-1],u[2:,1:-1],u[:-2,1:-1],u[1:-1,2:],u[1:-1,:-2],dx,dy,mu))\n",
      "    \n",
      "    ut[1:-1,1:-1]=u[1:-1,1:-1]+(dt/1)*G1\n",
      "\n",
      "    \n",
      "    ve12=(v[1:-1,1:-1]+v[2:,1:-1])/2\n",
      "    vw12=(v[1:-1,1:-1]+v[:-2,1:-1])/2\n",
      "    vs12=(v[1:-1,1:-1]+v[1:-1,:-2])/2\n",
      "    vn12=(v[1:-1,1:-1]+v[1:-1,2:])/2\n",
      "    us12=(u[:-1,1:-2]+u[:-1,2:-1])/2\n",
      "    un12=(u[1:,1:-2]+u[1:,2:-1])/2\n",
      "        \n",
      "    G2=(F2C(ve12,vw12,vs12,vn12,us12,un12,dx,dy)+\\\n",
      "        FV(v[1:-1,1:-1],v[2:,1:-1],v[:-2,1:-1],\\\n",
      "        v[1:-1,2:],v[1:-1,:-2],dx,dy,mu))\n",
      "    \n",
      "    vt[1:-1,1:-1]=v[1:-1,1:-1]+(dt/1)*G2    \n",
      "    \n",
      "\n",
      "    # Boundary Conditions for predicted velocities\n",
      "    ut[:,0]=2*0-ut[:,1] # Bottom boundary condition\n",
      "    ut[:,-1]=2*U-ut[:,-2] # Top boundary condition\n",
      "    \n",
      "    \n",
      "    vt[0,:]=0-vt[1,:] # Left boundary condition\n",
      "    vt[-1,:]=0-vt[-2,:] # Right boundary condition\n",
      "\n",
      "    \n",
      "    # Pressure Poisson Solver\n",
      "    \n",
      "    for it in range(maxit):\n",
      "        for i in range(1,Nx):\n",
      "            for j in range(1,Ny):\n",
      "                p[i][j]=w*0.25*(p[i][j+1]+p[i][j-1]+p[i+1][j]+p[i-1][j]-\\\n",
      "                        (1*dy/(dt))*(vt[i][j]-vt[i][j-1])-\\\n",
      "                       (1*dx/(dt))*(ut[i][j]-ut[i-1][j]))+(1-w)*p[i][j]    \n",
      "        \n",
      "        p[:,0]=p[:,1]\n",
      "        p[:,-1]=p[:,-2]\n",
      "\n",
      "        p[0,:]=p[1,:]\n",
      "        p[-1,:]=p[-2,:]\n",
      "    \n",
      "    # Corrector Step\n",
      "    \n",
      "    u[1:-1,1:-1]=ut[1:-1,1:-1]-(dt/(1*dx))*(p[2:-1,1:-1]-p[1:-2,1:-1])\n",
      "    v[1:-1,1:-1]=vt[1:-1,1:-1]-(dt/(1*dy))*(p[1:-1,2:-1]-p[1:-1,1:-2])\n",
      "\n",
      "    \n",
      "    # Boundary Conditions for Correct Velocities\n",
      "    u[:,0]=2*0-u[:,1] # Bottom boundary condition\n",
      "    u[:,-1]=2*U-u[:,-2] # Top boundary condition\n",
      "    \n",
      "    \n",
      "    v[0,:]=0-v[1,:] # Left boundary condition\n",
      "    v[-1,:]=0-v[-2,:] # Right boundary condition\n",
      "    \n",
      "    error=max(np.sqrt(((u-un)**2).mean()),np.sqrt(((v-vn)**2).mean()))\n",
      "    \n",
      "    counter+=1\n",
      "\n",
      "uu=(u[:,:-1]+u[:,1:])*0.5\n",
      "vv=(v[:-1,:]+v[1:,:])*0.5\n",
      "\n",
      "uu=uu.T\n",
      "vv=vv.T"
     ],
     "language": "python",
     "metadata": {},
     "outputs": [
      {
       "ename": "KeyboardInterrupt",
       "evalue": "",
       "output_type": "pyerr",
       "traceback": [
        "\u001b[1;31m---------------------------------------------------------------------------\u001b[0m\n\u001b[1;31mKeyboardInterrupt\u001b[0m                         Traceback (most recent call last)",
        "\u001b[1;32m<ipython-input-7-5a78ac6bf2b6>\u001b[0m in \u001b[0;36m<module>\u001b[1;34m()\u001b[0m\n\u001b[0;32m     52\u001b[0m         \u001b[1;32mfor\u001b[0m \u001b[0mi\u001b[0m \u001b[1;32min\u001b[0m \u001b[0mrange\u001b[0m\u001b[1;33m(\u001b[0m\u001b[1;36m1\u001b[0m\u001b[1;33m,\u001b[0m\u001b[0mNx\u001b[0m\u001b[1;33m)\u001b[0m\u001b[1;33m:\u001b[0m\u001b[1;33m\u001b[0m\u001b[0m\n\u001b[0;32m     53\u001b[0m             \u001b[1;32mfor\u001b[0m \u001b[0mj\u001b[0m \u001b[1;32min\u001b[0m \u001b[0mrange\u001b[0m\u001b[1;33m(\u001b[0m\u001b[1;36m1\u001b[0m\u001b[1;33m,\u001b[0m\u001b[0mNy\u001b[0m\u001b[1;33m)\u001b[0m\u001b[1;33m:\u001b[0m\u001b[1;33m\u001b[0m\u001b[0m\n\u001b[1;32m---> 54\u001b[1;33m                 \u001b[0mp\u001b[0m\u001b[1;33m[\u001b[0m\u001b[0mi\u001b[0m\u001b[1;33m]\u001b[0m\u001b[1;33m[\u001b[0m\u001b[0mj\u001b[0m\u001b[1;33m]\u001b[0m\u001b[1;33m=\u001b[0m\u001b[0mw\u001b[0m\u001b[1;33m*\u001b[0m\u001b[1;36m0.25\u001b[0m\u001b[1;33m*\u001b[0m\u001b[1;33m(\u001b[0m\u001b[0mp\u001b[0m\u001b[1;33m[\u001b[0m\u001b[0mi\u001b[0m\u001b[1;33m]\u001b[0m\u001b[1;33m[\u001b[0m\u001b[0mj\u001b[0m\u001b[1;33m+\u001b[0m\u001b[1;36m1\u001b[0m\u001b[1;33m]\u001b[0m\u001b[1;33m+\u001b[0m\u001b[0mp\u001b[0m\u001b[1;33m[\u001b[0m\u001b[0mi\u001b[0m\u001b[1;33m]\u001b[0m\u001b[1;33m[\u001b[0m\u001b[0mj\u001b[0m\u001b[1;33m-\u001b[0m\u001b[1;36m1\u001b[0m\u001b[1;33m]\u001b[0m\u001b[1;33m+\u001b[0m\u001b[0mp\u001b[0m\u001b[1;33m[\u001b[0m\u001b[0mi\u001b[0m\u001b[1;33m+\u001b[0m\u001b[1;36m1\u001b[0m\u001b[1;33m]\u001b[0m\u001b[1;33m[\u001b[0m\u001b[0mj\u001b[0m\u001b[1;33m]\u001b[0m\u001b[1;33m+\u001b[0m\u001b[0mp\u001b[0m\u001b[1;33m[\u001b[0m\u001b[0mi\u001b[0m\u001b[1;33m-\u001b[0m\u001b[1;36m1\u001b[0m\u001b[1;33m]\u001b[0m\u001b[1;33m[\u001b[0m\u001b[0mj\u001b[0m\u001b[1;33m]\u001b[0m\u001b[1;33m-\u001b[0m                        \u001b[1;33m(\u001b[0m\u001b[1;36m1\u001b[0m\u001b[1;33m*\u001b[0m\u001b[0mdy\u001b[0m\u001b[1;33m/\u001b[0m\u001b[1;33m(\u001b[0m\u001b[0mdt\u001b[0m\u001b[1;33m)\u001b[0m\u001b[1;33m)\u001b[0m\u001b[1;33m*\u001b[0m\u001b[1;33m(\u001b[0m\u001b[0mvt\u001b[0m\u001b[1;33m[\u001b[0m\u001b[0mi\u001b[0m\u001b[1;33m]\u001b[0m\u001b[1;33m[\u001b[0m\u001b[0mj\u001b[0m\u001b[1;33m]\u001b[0m\u001b[1;33m-\u001b[0m\u001b[0mvt\u001b[0m\u001b[1;33m[\u001b[0m\u001b[0mi\u001b[0m\u001b[1;33m]\u001b[0m\u001b[1;33m[\u001b[0m\u001b[0mj\u001b[0m\u001b[1;33m-\u001b[0m\u001b[1;36m1\u001b[0m\u001b[1;33m]\u001b[0m\u001b[1;33m)\u001b[0m\u001b[1;33m-\u001b[0m                       \u001b[1;33m(\u001b[0m\u001b[1;36m1\u001b[0m\u001b[1;33m*\u001b[0m\u001b[0mdx\u001b[0m\u001b[1;33m/\u001b[0m\u001b[1;33m(\u001b[0m\u001b[0mdt\u001b[0m\u001b[1;33m)\u001b[0m\u001b[1;33m)\u001b[0m\u001b[1;33m*\u001b[0m\u001b[1;33m(\u001b[0m\u001b[0mut\u001b[0m\u001b[1;33m[\u001b[0m\u001b[0mi\u001b[0m\u001b[1;33m]\u001b[0m\u001b[1;33m[\u001b[0m\u001b[0mj\u001b[0m\u001b[1;33m]\u001b[0m\u001b[1;33m-\u001b[0m\u001b[0mut\u001b[0m\u001b[1;33m[\u001b[0m\u001b[0mi\u001b[0m\u001b[1;33m-\u001b[0m\u001b[1;36m1\u001b[0m\u001b[1;33m]\u001b[0m\u001b[1;33m[\u001b[0m\u001b[0mj\u001b[0m\u001b[1;33m]\u001b[0m\u001b[1;33m)\u001b[0m\u001b[1;33m)\u001b[0m\u001b[1;33m+\u001b[0m\u001b[1;33m(\u001b[0m\u001b[1;36m1\u001b[0m\u001b[1;33m-\u001b[0m\u001b[0mw\u001b[0m\u001b[1;33m)\u001b[0m\u001b[1;33m*\u001b[0m\u001b[0mp\u001b[0m\u001b[1;33m[\u001b[0m\u001b[0mi\u001b[0m\u001b[1;33m]\u001b[0m\u001b[1;33m[\u001b[0m\u001b[0mj\u001b[0m\u001b[1;33m]\u001b[0m\u001b[1;33m\u001b[0m\u001b[0m\n\u001b[0m\u001b[0;32m     55\u001b[0m \u001b[1;33m\u001b[0m\u001b[0m\n\u001b[0;32m     56\u001b[0m         \u001b[0mp\u001b[0m\u001b[1;33m[\u001b[0m\u001b[1;33m:\u001b[0m\u001b[1;33m,\u001b[0m\u001b[1;36m0\u001b[0m\u001b[1;33m]\u001b[0m\u001b[1;33m=\u001b[0m\u001b[0mp\u001b[0m\u001b[1;33m[\u001b[0m\u001b[1;33m:\u001b[0m\u001b[1;33m,\u001b[0m\u001b[1;36m1\u001b[0m\u001b[1;33m]\u001b[0m\u001b[1;33m\u001b[0m\u001b[0m\n",
        "\u001b[1;31mKeyboardInterrupt\u001b[0m: "
       ]
      }
     ],
     "prompt_number": 7
    },
    {
     "cell_type": "markdown",
     "metadata": {},
     "source": [
      "The values at ghost cells, are determined by using the calculated values at the grid cells and the boundary conditions. The velocity at top boundary is equal to the free-stream velocity and all other boundaries act as a no-slip wall.\n",
      "\n",
      "\n",
      "Post processing, data visualization and validation: Contours of velocity magnitude and streamlines are plotted and compared to published data."
     ]
    },
    {
     "cell_type": "code",
     "collapsed": false,
     "input": [
      "%matplotlib inline\n",
      "\n",
      "# Contours of velocity magnitude\n",
      "plt.figure(figsize=(size, (1.-0)/(1.-0)*size))\n",
      "plt.contourf(X,Y,np.sqrt(uu**2+vv**2))\n",
      "plt.colorbar()\n",
      "plt.axis('equal')\n",
      "plt.xlabel('x')\n",
      "plt.ylabel('y')\n",
      "plt.title('Velocity Contours')\n",
      "plt.show()\n",
      "\n",
      "\n",
      "# Streamlines\n",
      "plt.figure(figsize=(size, (1.-0)/(1.-0)*size))\n",
      "plt.plot([0,0,1,1,0],[0,1,1,0,0],'k')\n",
      "plt.streamplot(X, Y, uu, vv, density=3, arrowsize=1, arrowstyle='->')\n",
      "plt.axis([0, 1, 0, 1])\n",
      "plt.xlabel('x')\n",
      "plt.ylabel('y')\n",
      "plt.title('Velocity Streamlines')\n",
      "plt.show()\n",
      "\n",
      "print \"Time=\",counter*dt,\"s\""
     ],
     "language": "python",
     "metadata": {},
     "outputs": []
    },
    {
     "cell_type": "markdown",
     "metadata": {},
     "source": [
      "These results can be validated with those obtained by Ghia and Idris.et.al[2-4]"
     ]
    },
    {
     "cell_type": "code",
     "collapsed": false,
     "input": [
      "display(Image(filename='../Project_Akash/Ghia.png'))"
     ],
     "language": "python",
     "metadata": {},
     "outputs": [
      {
       "metadata": {},
       "output_type": "display_data",
       "png": "[encoded data removed]",
       "text": [
        "<IPython.core.display.Image at 0xa67d2b0>"
       ]
      }
     ],
     "prompt_number": 40
    },
    {
     "cell_type": "markdown",
     "metadata": {},
     "source": [
      "Results obtained by Ghia.et.al [2], show the formation of primary, secondary and corner vortices at Re=100"
     ]
    },
    {
     "cell_type": "markdown",
     "metadata": {},
     "source": [
      "Further accuracy can be obtained by using fracitonal-step methods like RK-3 and Adam-Bashforth time marching schemes. Further discussion on these methods can be found in [5]."
     ]
    },
    {
     "cell_type": "heading",
     "level": 3,
     "metadata": {},
     "source": [
      "4. Immersed boundary method - Direct forcing apporach"
     ]
    },
    {
     "cell_type": "markdown",
     "metadata": {},
     "source": [
      "Cartesian girds are very computationally efficient and their application to parallel programming is quite straight forward [5-6]. Thus, to utilize this property of a cartesian grid, immersed boundary methods are used. \n",
      "\n",
      "Consider a cylinder in the middle of the domain of a lid driven cavity, with a radius of 0.1 m. "
     ]
    },
    {
     "cell_type": "code",
     "collapsed": false,
     "input": [
      "r=0.1 #m # Cylinder radius\n",
      "L=2*r \n",
      "\n",
      "dis=np.linspace(0.,pi,20)\n",
      "xcircle=0.5+r*np.cos(dis)\n",
      "ycircle=np.sqrt(r**2-(xcircle-0.5)**2)\n",
      "\n",
      "xcircle=np.concatenate([xcircle,xcircle[::-1]])\n",
      "ycircle=np.concatenate([ycircle,-ycircle[::-1]])\n",
      "\n",
      "ycircle=ycircle+0.5\n",
      "\n",
      "%matplotlib inline\n",
      "\n",
      "plt.figure(figsize=(size, (1.-0)/(1.-0)*size))\n",
      "plt.plot(X.T,Y.T,'g')\n",
      "plt.plot(X,Y,'g')\n",
      "plt.plot(xcircle,ycircle,'k')\n",
      "plt.axis('equal')\n",
      "plt.show()"
     ],
     "language": "python",
     "metadata": {},
     "outputs": []
    },
    {
     "cell_type": "markdown",
     "metadata": {},
     "source": [
      "There are various apporaches of an immersed boundary method. In this notebook, as discussed earlier, direct forcing apporach is used. In this approach, all the $u$ and $v$ velocity points just outside the immersed boundary and its wall velocity is imposed on those points after the predictor step.\n",
      "\n",
      "First, all the points inside the body are determined using it's equation. The indices of grid location of velocities, if inside the circle are stored in arrays $\\small iu$ and $\\small iv$."
     ]
    },
    {
     "cell_type": "code",
     "collapsed": false,
     "input": [
      "iu=[]\n",
      "for i in range(len(xu)):\n",
      "    for j in range(len(yu)):\n",
      "        if(sqrt((xu[i]-0.5)**2+(yu[j]-0.5)**2)<=r):\n",
      "            iu.append([i,j])\n",
      "\n",
      "iu=np.asarray(iu)\n",
      "\n",
      "iv=[]\n",
      "for i in range(len(xv)):\n",
      "    for j in range(len(yv)):\n",
      "        if(sqrt((xv[i]-0.5)**2+(yv[j]-0.5)**2)<=r):\n",
      "            iv.append([i,j])\n",
      "            \n",
      "iv=np.asarray(iv)"
     ],
     "language": "python",
     "metadata": {},
     "outputs": []
    },
    {
     "cell_type": "markdown",
     "metadata": {},
     "source": [
      "Next the points outside the solid body are determined. For this, a special function where() from numpy library is used, which returns the indices of array elements where a given condition is satisfied."
     ]
    },
    {
     "cell_type": "code",
     "collapsed": false,
     "input": [
      "bul=min(iu[:,0])\n",
      "bur=max(iu[:,0])\n",
      "bub=min(iu[:,1])\n",
      "but=max(iu[:,1])\n",
      "\n",
      "# find u-velocity points just outside the boundary\n",
      "\n",
      "cux=np.linspace(bul,bur,bur-bul+1) # array to store indices along x-direction\n",
      "\n",
      "bu=[]\n",
      "\n",
      "for i in range(len(cux)):\n",
      "    \n",
      "    ind=np.where(iu[:,0]==cux[i])\n",
      "    \n",
      "    Min=iu[ind[0][0]][1]\n",
      "    Max=iu[ind[0][0]][1]\n",
      "    \n",
      "    # getting maximum and minimum indices in y-dir  for a given indice in x-dir\n",
      "    \n",
      "    for j in range(len(ind[0])):\n",
      "        if(iu[ind[0][j]][1]<Min):\n",
      "            Min=iu[ind[0][j]][1]\n",
      "        if(iu[ind[0][j]][1]>Max):\n",
      "            Max=iu[ind[0][j]][1]\n",
      "        \n",
      "    bu.append([cux[i],Min-1])\n",
      "    bu.append([cux[i],Max+1])\n",
      "\n",
      "cuy=np.linspace(bub,but,but-bub+1) # array to store indices along y-direction\n",
      "\n",
      "for i in range(len(cuy)):\n",
      "    \n",
      "    ind=np.where(iu[:,1]==cuy[i])\n",
      "    \n",
      "    Min=iu[ind[0][0]][0]\n",
      "    Max=iu[ind[0][0]][0]\n",
      "    \n",
      "    # getting maximum and minimum indices in x-dir  for a given indice in y-dir\n",
      "    \n",
      "    for j in range(len(ind[0])):\n",
      "        if(iu[ind[0][j]][0]<Min):\n",
      "            Min=iu[ind[0][j]][0]\n",
      "        if(iu[ind[0][j]][0]>Max):\n",
      "            Max=iu[ind[0][j]][0]\n",
      "    \n",
      "    bu.append([Min-1,cuy[i]])\n",
      "    bu.append([Max+1,cuy[i]])\n",
      "\n",
      "\n",
      "\n",
      "bu=np.asarray(bu) # array which stores indices of u-velocity points\n",
      "\n",
      "%matplotlib inline\n",
      "\n",
      "plt.figure(figsize=(size, (1.-0)/(1.-0)*size))\n",
      "plt.plot(X.T,Y.T,'g')\n",
      "plt.plot(X,Y,'g')\n",
      "plt.plot(xcircle,ycircle,'k')\n",
      "plt.axis('equal')\n",
      "\n",
      "\n",
      "for i in range(len(bu)):\n",
      "    plt.plot(xu[bu[i,0]],yu[bu[i,1]],'.b')\n",
      " \n",
      "\n",
      "bvl=min(iv[:,0])\n",
      "bvr=max(iv[:,0])\n",
      "bvb=min(iv[:,1])\n",
      "bvt=max(iv[:,1])\n",
      "\n",
      "cvx=np.linspace(bvl,bvr,bvr-bvl+1) # array to store indices along x-direction\n",
      "\n",
      "bv=[]\n",
      "\n",
      "for i in range(len(cvx)):\n",
      "    \n",
      "    ind=np.where(iv[:,0]==cvx[i])\n",
      "    \n",
      "    Min=iv[ind[0][0]][1]\n",
      "    Max=iv[ind[0][0]][1]\n",
      "    \n",
      "    # getting maximum and minimum indices in y-dir  for a given indice in x-dir\n",
      "    \n",
      "    for j in range(len(ind[0])):\n",
      "        if(iv[ind[0][j]][1]<Min):\n",
      "            Min=iv[ind[0][j]][1]\n",
      "        if(iv[ind[0][j]][1]>Max):\n",
      "            Max=iv[ind[0][j]][1]\n",
      "        \n",
      "    bv.append([cvx[i],Min-1])\n",
      "    bv.append([cvx[i],Max+1])\n",
      "\n",
      "cvy=np.linspace(bvb,bvt,bvt-bvb+1) # array to store indices along y-direction\n",
      "\n",
      "for i in range(len(cvy)):\n",
      "    \n",
      "    ind=np.where(iv[:,1]==cvy[i])\n",
      "    \n",
      "    Min=iv[ind[0][0]][0]\n",
      "    Max=iv[ind[0][0]][0]\n",
      "    \n",
      "    # getting maximum and minimum indices in x-dir  for a given indice in y-dir\n",
      "    \n",
      "    for j in range(len(ind[0])):\n",
      "        if(iv[ind[0][j]][0]<Min):\n",
      "            Min=iv[ind[0][j]][0]\n",
      "        if(iv[ind[0][j]][0]>Max):\n",
      "            Max=iv[ind[0][j]][0]\n",
      "    \n",
      "    bv.append([Min-1,cvy[i]])\n",
      "    bv.append([Max+1,cvy[i]])\n",
      "\n",
      "\n",
      "bv=np.asarray(bv) # array which stores indices of v-velocity points\n",
      "\n",
      "for i in range(len(bv)):\n",
      "    plt.plot(xv[bv[i,0]],yv[bv[i,1]],'xk')\n",
      "\n",
      "plt.show()"
     ],
     "language": "python",
     "metadata": {},
     "outputs": []
    },
    {
     "cell_type": "markdown",
     "metadata": {},
     "source": [
      "The most complex task is done. The indices of the $\\small u$ and $\\small v$ velocity points just outside the solid boundary are stored in arrays $\\small bu$ and $\\small bv$ respectively. Next we use the direct forcing approach to force velocity at these points to be zero (stationary cylinder).\n",
      "\n",
      "The boundary condition at top will have both and $ \\small u$ and $ \\small v$ velocity in this case, as described in the code segment below."
     ]
    },
    {
     "cell_type": "code",
     "collapsed": false,
     "input": [
      "u[:,:]=0\n",
      "ut[:,:]=0\n",
      "v[:,:]=0\n",
      "vt[:,:]=0\n",
      "\n",
      "error=1.\n",
      "counter=0 # counter for time loop\n",
      "\n",
      "dt=.4*min(dx,dy) # Defining dt taking sigma=0.4\n",
      "\n",
      "maxit=100\n",
      "[X,Y]=np.meshgrid(x,y)\n",
      "\n",
      "# loop for navier stokes solver\n",
      "\n",
      "while(error>0.0001):\n",
      "    un=u.copy()\n",
      "    vn=v.copy()\n",
      "    \n",
      "    # Predictor Step\n",
      "    \n",
      "    ue1=(u[1:-1,1:-1]+u[2:,1:-1])/2\n",
      "    uw1=(u[1:-1,1:-1]+u[:-2,1:-1])/2\n",
      "    us1=(u[1:-1,1:-1]+u[1:-1,:-2])/2\n",
      "    un1=(u[1:-1,1:-1]+u[1:-1,2:])/2\n",
      "    vs1=(v[1:-2,:-1]+v[2:-1,:-1])/2\n",
      "    vn1=(v[1:-2,1:]+v[2:-1,1:])/2\n",
      "        \n",
      "    G1=(F1C(ue1,uw1,us1,un1,vs1,vn1,dx,dy)+\\\n",
      "        FV(u[1:-1,1:-1],u[2:,1:-1],u[:-2,1:-1],\\\n",
      "           u[1:-1,2:],u[1:-1,:-2],dx,dy,mu))\n",
      "    \n",
      "    ut[1:-1,1:-1]=u[1:-1,1:-1]+(dt/1)*G1\n",
      "\n",
      "    \n",
      "    ve12=(v[1:-1,1:-1]+v[2:,1:-1])/2\n",
      "    vw12=(v[1:-1,1:-1]+v[:-2,1:-1])/2\n",
      "    vs12=(v[1:-1,1:-1]+v[1:-1,:-2])/2\n",
      "    vn12=(v[1:-1,1:-1]+v[1:-1,2:])/2\n",
      "    us12=(u[:-1,1:-2]+u[:-1,2:-1])/2\n",
      "    un12=(u[1:,1:-2]+u[1:,2:-1])/2\n",
      "        \n",
      "    G2=(F2C(ve12,vw12,vs12,vn12,us12,un12,dx,dy)+\\\n",
      "        FV(v[1:-1,1:-1],v[2:,1:-1],v[:-2,1:-1],\\\n",
      "        v[1:-1,2:],v[1:-1,:-2],dx,dy,mu))\n",
      "    \n",
      "    vt[1:-1,1:-1]=v[1:-1,1:-1]+(dt/1)*G2    \n",
      "    \n",
      "    # Direct Forcing \n",
      "    \n",
      "    for i in range(len(bu)):\n",
      "       ut[bu[i,0]][bu[i,1]]=0\n",
      "    \n",
      "    for i in range(len(bv)):\n",
      "       vt[bv[i,0]][bv[i,1]]=0\n",
      "    \n",
      "    # Boundary Condtions for predicted velocities\n",
      "    \n",
      "    ut[:,0]=2*0-ut[:,1] # Bottom boundary condition\n",
      "    ut[:,-1]=2*U-ut[:,-2] # Top boundary condition\n",
      "    \n",
      "    \n",
      "    vt[0,:]=0-vt[1,:] # Left boundary condition\n",
      "    vt[-1,:]=0-vt[-2,:] # Right boundary condition\n",
      "    vt[1:-1,-1]=-0.5 # Top boundary condition (v-velocity)\n",
      "\n",
      "    # Pressure Poisson Solver\n",
      "    \n",
      "    for it in range(maxit):\n",
      "        for i in range(1,Nx):\n",
      "            for j in range(1,Ny):\n",
      "                p[i][j]=w*0.25*(p[i][j+1]+p[i][j-1]+p[i+1][j]+p[i-1][j]-\\\n",
      "                                (1*dy/(1*dt))*(vt[i][j]-vt[i][j-1])-\\\n",
      "                       (1*dx/(1*dt))*(ut[i][j]-ut[i-1][j]))+(1-w)*p[i][j]    \n",
      "        \n",
      "        p[:,0]=p[:,1]\n",
      "        p[:,-1]=p[:,-2]\n",
      "\n",
      "        p[0,:]=p[1,:]\n",
      "        p[-1,:]=p[-2,:]\n",
      "\n",
      "    # Corrector Step\n",
      "    u[1:-1,1:-1]=ut[1:-1,1:-1]-(dt/(1*dx))*(p[2:-1,1:-1]-p[1:-2,1:-1])\n",
      "    v[1:-1,1:-1]=vt[1:-1,1:-1]-(dt/(1*dy))*(p[1:-1,2:-1]-p[1:-1,1:-2])\n",
      "\n",
      "    \n",
      "    # Boundary Condtions for Corrected Velocities\n",
      "    u[:,0]=2*0-u[:,1] # Bottom boundary condition\n",
      "    u[:,-1]=2*U-u[:,-2] # Top boundary condition\n",
      "    \n",
      "    \n",
      "    v[0,:]=0-v[1,:] # Left boundary condition\n",
      "    v[-1,:]=0-v[-2,:] # Right boundary condition\n",
      "    v[1:-1,-1]=-0.5 # Top boundary condition (v-velocity)\n",
      "    \n",
      "    error=max(np.sqrt(((u-un)**2).mean()),np.sqrt(((v-vn)**2).mean()))\n",
      "    counter+=1\n",
      "    \n",
      "    \n",
      "uu=(u[:,:-1]+u[:,1:])*0.5\n",
      "vv=(v[:-1,:]+v[1:,:])*0.5\n",
      "\n",
      "uu=uu.T\n",
      "vv=vv.T"
     ],
     "language": "python",
     "metadata": {},
     "outputs": []
    },
    {
     "cell_type": "markdown",
     "metadata": {},
     "source": [
      "The results below show how the velocity field curves around the solid obstacle"
     ]
    },
    {
     "cell_type": "code",
     "collapsed": false,
     "input": [
      "%matplotlib inline\n",
      "# Contours\n",
      "plt.figure(figsize=(size+3, (1.-0)/(1.-0)*(size+3)))\n",
      "plt.contourf(X,Y,np.sqrt(uu**2+vv**2))\n",
      "plt.colorbar()\n",
      "plt.quiver(X,Y,uu,vv,units='width')\n",
      "plt.fill(xcircle,ycircle,'k')\n",
      "plt.axis('equal')\n",
      "plt.xlabel('x')\n",
      "plt.ylabel('y')\n",
      "plt.title('Velocity Contours')\n",
      "plt.show()\n",
      "\n",
      "print \"Time=\",counter*dt,\"s\""
     ],
     "language": "python",
     "metadata": {},
     "outputs": []
    },
    {
     "cell_type": "heading",
     "level": 3,
     "metadata": {},
     "source": [
      "5. Conclusion"
     ]
    },
    {
     "cell_type": "markdown",
     "metadata": {},
     "source": [
      "The development of Navier-Stokes solver described in this notebook is just a basic formulation. More complex flows can be simulated by introducing mathematical models to account for these complexities. Turbulence and thermodynamic models have  been developed to visualize the eddies formed at high Reynolds numbers. To simulate different types of flow, different boundary conditions can be imposed. Boundary conditions play an important role and are the heart of a CFD code. I encourage the reader to build on this notebook and keep working on developing complex codes."
     ]
    },
    {
     "cell_type": "heading",
     "level": 3,
     "metadata": {},
     "source": [
      "6. References"
     ]
    },
    {
     "cell_type": "markdown",
     "metadata": {},
     "source": [
      "1. Anderson. J.D., \"A History of Aerodynamics: And Its Impact on Flying Machines\",1997\n",
      "\n",
      "2. Ghia.et.al, \"High-Re Solutions for Incompressible Flow Using the Navier-Stokes Equations and a Multigrid Method.\", Journal of Computational Physics, 1982\n",
      "\n",
      "3. Idris.M.S, Azwadi.C.S.N, \"Numerical Investigation of 2D Lid Driven Cavity Flow Emphasizing Finite Difference Method of Non Uniform Meshing \n",
      "\n",
      "4. Vaidehi Ambatipudi., \"Simple Solve for Driven Cavity Flow Problem.\", Purdue University\n",
      "\n",
      "5. Ferziger and Peric., \"Computational Methods for Fluid Dynamics.\", 2001\n",
      "\n",
      "6. Balaras.E., \"Modelling complex boundaries using an external force field on fixed cartesian girds in large eddy simulations.\" , Computers & Fluids"
     ]
    },
    {
     "cell_type": "code",
     "collapsed": false,
     "input": [
      "from IPython.core.display import HTML\n",
      "css_file = '../../numericalmoocstyle.css'\n",
      "HTML(open(css_file, \"r\").read())"
     ],
     "language": "python",
     "metadata": {},
     "outputs": [
      {
       "html": [
        "<link href='http://fonts.googleapis.com/css?family=Alegreya+Sans:100,300,400,500,700,800,900,100italic,300italic,400italic,500italic,700italic,800italic,900italic' rel='stylesheet' type='text/css'>\n",
        "<link href='http://fonts.googleapis.com/css?family=Arvo:400,700,400italic' rel='stylesheet' type='text/css'>\n",
        "<link href='http://fonts.googleapis.com/css?family=PT+Mono' rel='stylesheet' type='text/css'>\n",
        "<link href='http://fonts.googleapis.com/css?family=Shadows+Into+Light' rel='stylesheet' type='text/css'>\n",
        "<link href='http://fonts.googleapis.com/css?family=Nixie+One' rel='stylesheet' type='text/css'>\n",
        "<style>\n",
        "\n",
        "@font-face {\n",
        "    font-family: \"Computer Modern\";\n",
        "    src: url('http://mirrors.ctan.org/fonts/cm-unicode/fonts/otf/cmunss.otf');\n",
        "}\n",
        "\n",
        "#notebook_panel { /* main background */\n",
        "    background: rgb(245,245,245);\n",
        "}\n",
        "\n",
        "div.cell { /* set cell width */\n",
        "    width: 750px;\n",
        "}\n",
        "\n",
        "div #notebook { /* centre the content */\n",
        "    background: #fff; /* white background for content */\n",
        "    width: 1000px;\n",
        "    margin: auto;\n",
        "    padding-left: 0em;\n",
        "}\n",
        "\n",
        "#notebook li { /* More space between bullet points */\n",
        "margin-top:0.8em;\n",
        "}\n",
        "\n",
        "/* draw border around running cells */\n",
        "div.cell.border-box-sizing.code_cell.running { \n",
        "    border: 1px solid #111;\n",
        "}\n",
        "\n",
        "/* Put a solid color box around each cell and its output, visually linking them*/\n",
        "div.cell.code_cell {\n",
        "    background-color: rgb(256,256,256); \n",
        "    border-radius: 0px; \n",
        "    padding: 0.5em;\n",
        "    margin-left:1em;\n",
        "    margin-top: 1em;\n",
        "}\n",
        "\n",
        "div.text_cell_render{\n",
        "    font-family: 'Alegreya Sans' sans-serif;\n",
        "    line-height: 140%;\n",
        "    font-size: 125%;\n",
        "    font-weight: 400;\n",
        "    width:600px;\n",
        "    margin-left:auto;\n",
        "    margin-right:auto;\n",
        "}\n",
        "\n",
        "\n",
        "/* Formatting for header cells */\n",
        ".text_cell_render h1 {\n",
        "    font-family: 'Nixie One', serif;\n",
        "    font-style:regular;\n",
        "    font-weight: 400;    \n",
        "    font-size: 45pt;\n",
        "    line-height: 100%;\n",
        "    color: rgb(0,51,102);\n",
        "    margin-bottom: 0.5em;\n",
        "    margin-top: 0.5em;\n",
        "    display: block;\n",
        "}\t\n",
        ".text_cell_render h2 {\n",
        "    font-family: 'Nixie One', serif;\n",
        "    font-weight: 400;\n",
        "    font-size: 30pt;\n",
        "    line-height: 100%;\n",
        "    color: rgb(0,51,102);\n",
        "    margin-bottom: 0.1em;\n",
        "    margin-top: 0.3em;\n",
        "    display: block;\n",
        "}\t\n",
        "\n",
        ".text_cell_render h3 {\n",
        "    font-family: 'Nixie One', serif;\n",
        "    margin-top:16px;\n",
        "\tfont-size: 22pt;\n",
        "    font-weight: 600;\n",
        "    margin-bottom: 3px;\n",
        "    font-style: regular;\n",
        "    color: rgb(102,102,0);\n",
        "}\n",
        "\n",
        ".text_cell_render h4 {    /*Use this for captions*/\n",
        "    font-family: 'Nixie One', serif;\n",
        "    font-size: 14pt;\n",
        "    text-align: center;\n",
        "    margin-top: 0em;\n",
        "    margin-bottom: 2em;\n",
        "    font-style: regular;\n",
        "}\n",
        "\n",
        ".text_cell_render h5 {  /*Use this for small titles*/\n",
        "    font-family: 'Nixie One', sans-serif;\n",
        "    font-weight: 400;\n",
        "    font-size: 16pt;\n",
        "    color: rgb(163,0,0);\n",
        "    font-style: italic;\n",
        "    margin-bottom: .1em;\n",
        "    margin-top: 0.8em;\n",
        "    display: block;\n",
        "}\n",
        "\n",
        ".text_cell_render h6 { /*use this for copyright note*/\n",
        "    font-family: 'PT Mono', sans-serif;\n",
        "    font-weight: 300;\n",
        "    font-size: 9pt;\n",
        "    line-height: 100%;\n",
        "    color: grey;\n",
        "    margin-bottom: 1px;\n",
        "    margin-top: 1px;\n",
        "}\n",
        "\n",
        ".CodeMirror{\n",
        "        font-family: \"PT Mono\";\n",
        "        font-size: 90%;\n",
        "}\n",
        "\n",
        "</style>\n",
        "<script>\n",
        "    MathJax.Hub.Config({\n",
        "                        TeX: {\n",
        "                           extensions: [\"AMSmath.js\"],\n",
        "                           equationNumbers: { autoNumber: \"AMS\", useLabelIds: true}\n",
        "                           },\n",
        "                tex2jax: {\n",
        "                    inlineMath: [ ['$','$'], [\"\\\\(\",\"\\\\)\"] ],\n",
        "                    displayMath: [ ['$$','$$'], [\"\\\\[\",\"\\\\]\"] ]\n",
        "                },\n",
        "                displayAlign: 'center', // Change this to 'center' to center equations.\n",
        "                \"HTML-CSS\": {\n",
        "                    styles: {'.MathJax_Display': {\"margin\": 4}}\n",
        "                }\n",
        "        });\n",
        "</script>\n"
       ],
       "metadata": {},
       "output_type": "pyout",
       "prompt_number": 46,
       "text": [
        "<IPython.core.display.HTML at 0xb3b1ba8>"
       ]
      }
     ],
     "prompt_number": 46
    }
   ],
   "metadata": {}
  }
 ]
}